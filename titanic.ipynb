{
 "cells": [
  {
   "cell_type": "code",
   "execution_count": 1,
   "id": "c767e956",
   "metadata": {},
   "outputs": [],
   "source": [
    "import pandas as pd\n",
    "import numpy as np\n",
    "import seaborn as sns\n",
    "import matplotlib.pyplot as plt\n",
    "import random as rn\n",
    "\n",
    "from scipy import stats\n",
    "\n",
    "seed = 42\n",
    "import warnings\n",
    "warnings.filterwarnings('ignore')\n",
    "\n",
    "\n",
    "%matplotlib inline"
   ]
  },
  {
   "cell_type": "code",
   "execution_count": 2,
   "id": "b706259d",
   "metadata": {
    "scrolled": true
   },
   "outputs": [
    {
     "data": {
      "text/html": [
       "<div>\n",
       "<style scoped>\n",
       "    .dataframe tbody tr th:only-of-type {\n",
       "        vertical-align: middle;\n",
       "    }\n",
       "\n",
       "    .dataframe tbody tr th {\n",
       "        vertical-align: top;\n",
       "    }\n",
       "\n",
       "    .dataframe thead th {\n",
       "        text-align: right;\n",
       "    }\n",
       "</style>\n",
       "<table border=\"1\" class=\"dataframe\">\n",
       "  <thead>\n",
       "    <tr style=\"text-align: right;\">\n",
       "      <th></th>\n",
       "      <th>PassengerId</th>\n",
       "      <th>Survived</th>\n",
       "      <th>Pclass</th>\n",
       "      <th>Name</th>\n",
       "      <th>Sex</th>\n",
       "      <th>Age</th>\n",
       "      <th>SibSp</th>\n",
       "      <th>Parch</th>\n",
       "      <th>Ticket</th>\n",
       "      <th>Fare</th>\n",
       "      <th>Cabin</th>\n",
       "      <th>Embarked</th>\n",
       "    </tr>\n",
       "  </thead>\n",
       "  <tbody>\n",
       "    <tr>\n",
       "      <th>0</th>\n",
       "      <td>892</td>\n",
       "      <td>0</td>\n",
       "      <td>3</td>\n",
       "      <td>Kelly, Mr. James</td>\n",
       "      <td>male</td>\n",
       "      <td>34.5</td>\n",
       "      <td>0</td>\n",
       "      <td>0</td>\n",
       "      <td>330911</td>\n",
       "      <td>7.8292</td>\n",
       "      <td>NaN</td>\n",
       "      <td>Q</td>\n",
       "    </tr>\n",
       "    <tr>\n",
       "      <th>1</th>\n",
       "      <td>893</td>\n",
       "      <td>1</td>\n",
       "      <td>3</td>\n",
       "      <td>Wilkes, Mrs. James (Ellen Needs)</td>\n",
       "      <td>female</td>\n",
       "      <td>47.0</td>\n",
       "      <td>1</td>\n",
       "      <td>0</td>\n",
       "      <td>363272</td>\n",
       "      <td>7.0000</td>\n",
       "      <td>NaN</td>\n",
       "      <td>S</td>\n",
       "    </tr>\n",
       "    <tr>\n",
       "      <th>2</th>\n",
       "      <td>894</td>\n",
       "      <td>0</td>\n",
       "      <td>2</td>\n",
       "      <td>Myles, Mr. Thomas Francis</td>\n",
       "      <td>male</td>\n",
       "      <td>62.0</td>\n",
       "      <td>0</td>\n",
       "      <td>0</td>\n",
       "      <td>240276</td>\n",
       "      <td>9.6875</td>\n",
       "      <td>NaN</td>\n",
       "      <td>Q</td>\n",
       "    </tr>\n",
       "    <tr>\n",
       "      <th>3</th>\n",
       "      <td>895</td>\n",
       "      <td>0</td>\n",
       "      <td>3</td>\n",
       "      <td>Wirz, Mr. Albert</td>\n",
       "      <td>male</td>\n",
       "      <td>27.0</td>\n",
       "      <td>0</td>\n",
       "      <td>0</td>\n",
       "      <td>315154</td>\n",
       "      <td>8.6625</td>\n",
       "      <td>NaN</td>\n",
       "      <td>S</td>\n",
       "    </tr>\n",
       "    <tr>\n",
       "      <th>4</th>\n",
       "      <td>896</td>\n",
       "      <td>1</td>\n",
       "      <td>3</td>\n",
       "      <td>Hirvonen, Mrs. Alexander (Helga E Lindqvist)</td>\n",
       "      <td>female</td>\n",
       "      <td>22.0</td>\n",
       "      <td>1</td>\n",
       "      <td>1</td>\n",
       "      <td>3101298</td>\n",
       "      <td>12.2875</td>\n",
       "      <td>NaN</td>\n",
       "      <td>S</td>\n",
       "    </tr>\n",
       "  </tbody>\n",
       "</table>\n",
       "</div>"
      ],
      "text/plain": [
       "   PassengerId  Survived  Pclass  \\\n",
       "0          892         0       3   \n",
       "1          893         1       3   \n",
       "2          894         0       2   \n",
       "3          895         0       3   \n",
       "4          896         1       3   \n",
       "\n",
       "                                           Name     Sex   Age  SibSp  Parch  \\\n",
       "0                              Kelly, Mr. James    male  34.5      0      0   \n",
       "1              Wilkes, Mrs. James (Ellen Needs)  female  47.0      1      0   \n",
       "2                     Myles, Mr. Thomas Francis    male  62.0      0      0   \n",
       "3                              Wirz, Mr. Albert    male  27.0      0      0   \n",
       "4  Hirvonen, Mrs. Alexander (Helga E Lindqvist)  female  22.0      1      1   \n",
       "\n",
       "    Ticket     Fare Cabin Embarked  \n",
       "0   330911   7.8292   NaN        Q  \n",
       "1   363272   7.0000   NaN        S  \n",
       "2   240276   9.6875   NaN        Q  \n",
       "3   315154   8.6625   NaN        S  \n",
       "4  3101298  12.2875   NaN        S  "
      ]
     },
     "execution_count": 2,
     "metadata": {},
     "output_type": "execute_result"
    }
   ],
   "source": [
    "df=pd.read_csv(\"tested.csv\")\n",
    "df.head()"
   ]
  },
  {
   "cell_type": "code",
   "execution_count": 3,
   "id": "4a8dfc1b",
   "metadata": {
    "scrolled": true
   },
   "outputs": [
    {
     "name": "stdout",
     "output_type": "stream",
     "text": [
      "The number of Samples in this dataset is 418 with 12 features\n"
     ]
    }
   ],
   "source": [
    "print(f'The number of Samples in this dataset is',df.shape[0],'with',df.shape[1],'features')"
   ]
  },
  {
   "cell_type": "code",
   "execution_count": 4,
   "id": "8aa2571d",
   "metadata": {
    "scrolled": true
   },
   "outputs": [
    {
     "data": {
      "text/plain": [
       "Index(['passengerid', 'survived', 'pclass', 'name', 'sex', 'age', 'sibsp',\n",
       "       'parch', 'ticket', 'fare', 'cabin', 'embarked'],\n",
       "      dtype='object')"
      ]
     },
     "execution_count": 4,
     "metadata": {},
     "output_type": "execute_result"
    }
   ],
   "source": [
    "#let's now convert all column namws to lower cases\n",
    "df.columns=df.columns.str.lower()\n",
    "df.columns"
   ]
  },
  {
   "cell_type": "code",
   "execution_count": 5,
   "id": "1fbc48ad",
   "metadata": {
    "scrolled": true
   },
   "outputs": [
    {
     "name": "stdout",
     "output_type": "stream",
     "text": [
      "<class 'pandas.core.frame.DataFrame'>\n",
      "RangeIndex: 418 entries, 0 to 417\n",
      "Data columns (total 12 columns):\n",
      " #   Column       Non-Null Count  Dtype  \n",
      "---  ------       --------------  -----  \n",
      " 0   passengerid  418 non-null    int64  \n",
      " 1   survived     418 non-null    int64  \n",
      " 2   pclass       418 non-null    int64  \n",
      " 3   name         418 non-null    object \n",
      " 4   sex          418 non-null    object \n",
      " 5   age          332 non-null    float64\n",
      " 6   sibsp        418 non-null    int64  \n",
      " 7   parch        418 non-null    int64  \n",
      " 8   ticket       418 non-null    object \n",
      " 9   fare         417 non-null    float64\n",
      " 10  cabin        91 non-null     object \n",
      " 11  embarked     418 non-null    object \n",
      "dtypes: float64(2), int64(5), object(5)\n",
      "memory usage: 39.3+ KB\n"
     ]
    }
   ],
   "source": [
    "df.info()"
   ]
  },
  {
   "cell_type": "code",
   "execution_count": 6,
   "id": "ff355440-4677-416e-9864-2c694524dd93",
   "metadata": {},
   "outputs": [
    {
     "data": {
      "text/html": [
       "<div>\n",
       "<style scoped>\n",
       "    .dataframe tbody tr th:only-of-type {\n",
       "        vertical-align: middle;\n",
       "    }\n",
       "\n",
       "    .dataframe tbody tr th {\n",
       "        vertical-align: top;\n",
       "    }\n",
       "\n",
       "    .dataframe thead th {\n",
       "        text-align: right;\n",
       "    }\n",
       "</style>\n",
       "<table border=\"1\" class=\"dataframe\">\n",
       "  <thead>\n",
       "    <tr style=\"text-align: right;\">\n",
       "      <th></th>\n",
       "      <th>number of NAN values</th>\n",
       "    </tr>\n",
       "  </thead>\n",
       "  <tbody>\n",
       "    <tr>\n",
       "      <th>passengerid</th>\n",
       "      <td>0</td>\n",
       "    </tr>\n",
       "    <tr>\n",
       "      <th>survived</th>\n",
       "      <td>0</td>\n",
       "    </tr>\n",
       "    <tr>\n",
       "      <th>pclass</th>\n",
       "      <td>0</td>\n",
       "    </tr>\n",
       "    <tr>\n",
       "      <th>name</th>\n",
       "      <td>0</td>\n",
       "    </tr>\n",
       "    <tr>\n",
       "      <th>sex</th>\n",
       "      <td>0</td>\n",
       "    </tr>\n",
       "    <tr>\n",
       "      <th>age</th>\n",
       "      <td>86</td>\n",
       "    </tr>\n",
       "    <tr>\n",
       "      <th>sibsp</th>\n",
       "      <td>0</td>\n",
       "    </tr>\n",
       "    <tr>\n",
       "      <th>parch</th>\n",
       "      <td>0</td>\n",
       "    </tr>\n",
       "    <tr>\n",
       "      <th>ticket</th>\n",
       "      <td>0</td>\n",
       "    </tr>\n",
       "    <tr>\n",
       "      <th>fare</th>\n",
       "      <td>1</td>\n",
       "    </tr>\n",
       "    <tr>\n",
       "      <th>cabin</th>\n",
       "      <td>327</td>\n",
       "    </tr>\n",
       "    <tr>\n",
       "      <th>embarked</th>\n",
       "      <td>0</td>\n",
       "    </tr>\n",
       "  </tbody>\n",
       "</table>\n",
       "</div>"
      ],
      "text/plain": [
       "             number of NAN values\n",
       "passengerid                     0\n",
       "survived                        0\n",
       "pclass                          0\n",
       "name                            0\n",
       "sex                             0\n",
       "age                            86\n",
       "sibsp                           0\n",
       "parch                           0\n",
       "ticket                          0\n",
       "fare                            1\n",
       "cabin                         327\n",
       "embarked                        0"
      ]
     },
     "execution_count": 6,
     "metadata": {},
     "output_type": "execute_result"
    }
   ],
   "source": [
    "pd.DataFrame(df.isnull().sum(),columns=[\"number of NAN values\"])"
   ]
  },
  {
   "cell_type": "code",
   "execution_count": 7,
   "id": "c92142a3",
   "metadata": {
    "scrolled": true
   },
   "outputs": [
    {
     "name": "stdout",
     "output_type": "stream",
     "text": [
      "The number of duplicated samples in the dataset is/are 0\n"
     ]
    }
   ],
   "source": [
    "print(f'The number of duplicated samples in the dataset is/are',len(df[df.duplicated()]))"
   ]
  },
  {
   "cell_type": "code",
   "execution_count": 8,
   "id": "46c2515f",
   "metadata": {
    "scrolled": true
   },
   "outputs": [
    {
     "data": {
      "text/plain": [
       "sex\n",
       "female    30.272362\n",
       "male      30.272732\n",
       "Name: age, dtype: float64"
      ]
     },
     "execution_count": 8,
     "metadata": {},
     "output_type": "execute_result"
    }
   ],
   "source": [
    "new_ages=df.groupby(\"sex\")[\"age\"].agg(\"mean\")\n",
    "new_ages"
   ]
  },
  {
   "cell_type": "code",
   "execution_count": 9,
   "id": "2046da45",
   "metadata": {},
   "outputs": [
    {
     "data": {
      "text/html": [
       "<div>\n",
       "<style scoped>\n",
       "    .dataframe tbody tr th:only-of-type {\n",
       "        vertical-align: middle;\n",
       "    }\n",
       "\n",
       "    .dataframe tbody tr th {\n",
       "        vertical-align: top;\n",
       "    }\n",
       "\n",
       "    .dataframe thead th {\n",
       "        text-align: right;\n",
       "    }\n",
       "</style>\n",
       "<table border=\"1\" class=\"dataframe\">\n",
       "  <thead>\n",
       "    <tr style=\"text-align: right;\">\n",
       "      <th></th>\n",
       "      <th>sex</th>\n",
       "      <th>age</th>\n",
       "    </tr>\n",
       "  </thead>\n",
       "  <tbody>\n",
       "    <tr>\n",
       "      <th>0</th>\n",
       "      <td>male</td>\n",
       "      <td>34.5</td>\n",
       "    </tr>\n",
       "    <tr>\n",
       "      <th>1</th>\n",
       "      <td>female</td>\n",
       "      <td>47.0</td>\n",
       "    </tr>\n",
       "    <tr>\n",
       "      <th>2</th>\n",
       "      <td>male</td>\n",
       "      <td>62.0</td>\n",
       "    </tr>\n",
       "    <tr>\n",
       "      <th>3</th>\n",
       "      <td>male</td>\n",
       "      <td>27.0</td>\n",
       "    </tr>\n",
       "    <tr>\n",
       "      <th>4</th>\n",
       "      <td>female</td>\n",
       "      <td>22.0</td>\n",
       "    </tr>\n",
       "    <tr>\n",
       "      <th>...</th>\n",
       "      <td>...</td>\n",
       "      <td>...</td>\n",
       "    </tr>\n",
       "    <tr>\n",
       "      <th>413</th>\n",
       "      <td>male</td>\n",
       "      <td>NaN</td>\n",
       "    </tr>\n",
       "    <tr>\n",
       "      <th>414</th>\n",
       "      <td>female</td>\n",
       "      <td>39.0</td>\n",
       "    </tr>\n",
       "    <tr>\n",
       "      <th>415</th>\n",
       "      <td>male</td>\n",
       "      <td>38.5</td>\n",
       "    </tr>\n",
       "    <tr>\n",
       "      <th>416</th>\n",
       "      <td>male</td>\n",
       "      <td>NaN</td>\n",
       "    </tr>\n",
       "    <tr>\n",
       "      <th>417</th>\n",
       "      <td>male</td>\n",
       "      <td>NaN</td>\n",
       "    </tr>\n",
       "  </tbody>\n",
       "</table>\n",
       "<p>418 rows × 2 columns</p>\n",
       "</div>"
      ],
      "text/plain": [
       "        sex   age\n",
       "0      male  34.5\n",
       "1    female  47.0\n",
       "2      male  62.0\n",
       "3      male  27.0\n",
       "4    female  22.0\n",
       "..      ...   ...\n",
       "413    male   NaN\n",
       "414  female  39.0\n",
       "415    male  38.5\n",
       "416    male   NaN\n",
       "417    male   NaN\n",
       "\n",
       "[418 rows x 2 columns]"
      ]
     },
     "execution_count": 9,
     "metadata": {},
     "output_type": "execute_result"
    }
   ],
   "source": [
    "df[[\"sex\",\"age\"]]"
   ]
  },
  {
   "cell_type": "code",
   "execution_count": 10,
   "id": "e884c0dd",
   "metadata": {
    "scrolled": true
   },
   "outputs": [
    {
     "name": "stdout",
     "output_type": "stream",
     "text": [
      "The number of missing values in the \"Age\" column is 86\n",
      "on percentage,that is 20.57%\n"
     ]
    }
   ],
   "source": [
    "print(f'The number of missing values in the \"Age\" column is',df[\"age\"].isnull().sum())\n",
    "print('on percentage,that is %.2f%%' %(df[\"age\"].isnull().sum()/df.shape[0]*100))"
   ]
  },
  {
   "cell_type": "code",
   "execution_count": 11,
   "id": "87f65b1d",
   "metadata": {},
   "outputs": [
    {
     "data": {
      "text/plain": [
       "(-10.0, 80.0)"
      ]
     },
     "execution_count": 11,
     "metadata": {},
     "output_type": "execute_result"
    },
    {
     "data": {
      "image/png": "[encoded data removed]",
      "text/plain": [
       "<Figure size 640x480 with 1 Axes>"
      ]
     },
     "metadata": {},
     "output_type": "display_data"
    }
   ],
   "source": [
    "ax=df[\"age\"].hist(bins=20,density=True,stacked=True,alpha=0.6,color=\"teal\")\n",
    "df[\"age\"].plot(kind=\"density\",color=\"teal\")\n",
    "plt.xlabel(\"Ages\")\n",
    "plt.xlim(-10,80)"
   ]
  },
  {
   "cell_type": "code",
   "execution_count": 12,
   "id": "eea7be98",
   "metadata": {
    "scrolled": true
   },
   "outputs": [],
   "source": [
    "df[\"age\"].fillna(df[\"age\"].median(),inplace=True)\n",
    "df=df.drop(\"cabin\",axis=1)"
   ]
  },
  {
   "cell_type": "code",
   "execution_count": 13,
   "id": "1f086a26",
   "metadata": {},
   "outputs": [],
   "source": [
    "df2=df.copy()\n",
    "df2[\"survived\"]=df2[\"survived\"].replace({\n",
    "    0:\"died\",\n",
    "    1:\"survived\"\n",
    "})"
   ]
  },
  {
   "cell_type": "code",
   "execution_count": 14,
   "id": "9e643faa",
   "metadata": {},
   "outputs": [],
   "source": [
    "df2[\"pclass\"]=df2[\"pclass\"].apply(lambda x:str(x))"
   ]
  },
  {
   "cell_type": "code",
   "execution_count": 15,
   "id": "03567651",
   "metadata": {
    "scrolled": true
   },
   "outputs": [
    {
     "data": {
      "image/png": "[encoded data removed]",
      "text/plain": [
       "<Figure size 2000x1000 with 5 Axes>"
      ]
     },
     "metadata": {},
     "output_type": "display_data"
    }
   ],
   "source": [
    "def visualization(df):\n",
    "    plt.figure(figsize=(20,10))\n",
    "    plt.subplot(5,5,1)\n",
    "    sns.countplot(x=\"embarked\",data=df,palette=\"Set3\")\n",
    "    \n",
    "    \n",
    "    plt.subplot(5,5,2)\n",
    "    sns.countplot(x=\"embarked\",data=df,palette=\"Set3\",hue=\"survived\")\n",
    "  \n",
    "    \n",
    "    \n",
    "    plt.subplot(5,5,3)\n",
    "    sns.countplot(x=\"sex\",data=df,palette=\"Set1\") \n",
    "    \n",
    "    plt.subplot(5,5,4)\n",
    "    sns.countplot(x=\"sex\",data=df,palette=\"Set1\",hue=\"survived\")\n",
    "    \n",
    "    plt.subplot(5,5,5)\n",
    "    sns.countplot(x=\"survived\",data=df,palette=\"Set2\")\n",
    "    \n",
    "    plt.show()\n",
    "    \n",
    "    \n",
    "visualization(df2)"
   ]
  },
  {
   "cell_type": "code",
   "execution_count": 16,
   "id": "be9928c7",
   "metadata": {
    "scrolled": true
   },
   "outputs": [
    {
     "data": {
      "image/png": "[encoded data removed]",
      "text/plain": [
       "<Figure size 2000x1000 with 4 Axes>"
      ]
     },
     "metadata": {},
     "output_type": "display_data"
    }
   ],
   "source": [
    "def visualization(df):\n",
    "    plt.figure(figsize=(20,10))\n",
    "    plt.subplot(4,4,1)\n",
    "    sns.countplot(x=\"pclass\",data=df,palette=\"Set3\")\n",
    "    \n",
    "    \n",
    "    plt.subplot(4,4,2)\n",
    "    sns.countplot(x=\"pclass\",data=df,palette=\"viridis\",hue=\"survived\")\n",
    "  \n",
    "    \n",
    "    \n",
    "    plt.subplot(4,4,3)\n",
    "    sns.boxplot(x=\"age\",data=df,palette=\"Set3\")\n",
    "   \n",
    "    \n",
    "    plt.subplot(4,4,4)\n",
    "    plt.bar(x=\"pclass\",height=\"fare\",data=df,)\n",
    "    \n",
    "    plt.show()\n",
    "    \n",
    "    \n",
    "visualization(df2)"
   ]
  },
  {
   "cell_type": "code",
   "execution_count": 17,
   "id": "0ebe9864",
   "metadata": {
    "scrolled": true
   },
   "outputs": [
    {
     "data": {
      "image/png": "[encoded data removed]",
      "text/plain": [
       "<Figure size 2000x1000 with 4 Axes>"
      ]
     },
     "metadata": {},
     "output_type": "display_data"
    }
   ],
   "source": [
    "def visualization(df):\n",
    "    plt.figure(figsize=(20,10))\n",
    "    plt.subplot(4,4,1)\n",
    "    sns.countplot(x=\"sibsp\",data=df,palette=\"Set3\")\n",
    "  \n",
    "    \n",
    "    \n",
    "    \n",
    "    plt.subplot(4,4,2)\n",
    "    sns.boxplot(x=\"age\",data=df,palette=\"Set3\")\n",
    "    plt.subplot(4,4,3)\n",
    "    sns.boxplot(x=\"fare\",data=df,palette=\"Set3\")\n",
    "    \n",
    "    plt.subplot(4,4,4)\n",
    "    plt.bar(x=\"parch\",height=\"fare\",data=df,)\n",
    "    \n",
    "    plt.show()\n",
    "    \n",
    "    \n",
    "visualization(df2)"
   ]
  },
  {
   "cell_type": "code",
   "execution_count": 18,
   "id": "a41ee464",
   "metadata": {
    "scrolled": true
   },
   "outputs": [
    {
     "name": "stdout",
     "output_type": "stream",
     "text": [
      "<class 'pandas.core.frame.DataFrame'>\n",
      "Index: 417 entries, 0 to 417\n",
      "Data columns (total 11 columns):\n",
      " #   Column       Non-Null Count  Dtype  \n",
      "---  ------       --------------  -----  \n",
      " 0   passengerid  417 non-null    int64  \n",
      " 1   survived     417 non-null    int64  \n",
      " 2   pclass       417 non-null    int64  \n",
      " 3   name         417 non-null    object \n",
      " 4   sex          417 non-null    object \n",
      " 5   age          417 non-null    float64\n",
      " 6   sibsp        417 non-null    int64  \n",
      " 7   parch        417 non-null    int64  \n",
      " 8   ticket       417 non-null    object \n",
      " 9   fare         417 non-null    float64\n",
      " 10  embarked     417 non-null    object \n",
      "dtypes: float64(2), int64(5), object(4)\n",
      "memory usage: 39.1+ KB\n"
     ]
    }
   ],
   "source": [
    "df=df.dropna()\n",
    "df.info()"
   ]
  },
  {
   "cell_type": "markdown",
   "id": "2a70bc01",
   "metadata": {},
   "source": [
    "# OUTLIER REMOVAL FROM AGE"
   ]
  },
  {
   "cell_type": "code",
   "execution_count": 19,
   "id": "aec4002f",
   "metadata": {},
   "outputs": [
    {
     "data": {
      "text/html": [
       "<div>\n",
       "<style scoped>\n",
       "    .dataframe tbody tr th:only-of-type {\n",
       "        vertical-align: middle;\n",
       "    }\n",
       "\n",
       "    .dataframe tbody tr th {\n",
       "        vertical-align: top;\n",
       "    }\n",
       "\n",
       "    .dataframe thead th {\n",
       "        text-align: right;\n",
       "    }\n",
       "</style>\n",
       "<table border=\"1\" class=\"dataframe\">\n",
       "  <thead>\n",
       "    <tr style=\"text-align: right;\">\n",
       "      <th></th>\n",
       "      <th>passengerid</th>\n",
       "      <th>survived</th>\n",
       "      <th>pclass</th>\n",
       "      <th>name</th>\n",
       "      <th>sex</th>\n",
       "      <th>age</th>\n",
       "      <th>sibsp</th>\n",
       "      <th>parch</th>\n",
       "      <th>ticket</th>\n",
       "      <th>fare</th>\n",
       "      <th>embarked</th>\n",
       "      <th>age_2</th>\n",
       "      <th>fare_2</th>\n",
       "    </tr>\n",
       "  </thead>\n",
       "  <tbody>\n",
       "    <tr>\n",
       "      <th>0</th>\n",
       "      <td>892</td>\n",
       "      <td>0</td>\n",
       "      <td>3</td>\n",
       "      <td>Kelly, Mr. James</td>\n",
       "      <td>male</td>\n",
       "      <td>34.5</td>\n",
       "      <td>0</td>\n",
       "      <td>0</td>\n",
       "      <td>330911</td>\n",
       "      <td>7.8292</td>\n",
       "      <td>Q</td>\n",
       "      <td>0.394417</td>\n",
       "      <td>-0.497811</td>\n",
       "    </tr>\n",
       "    <tr>\n",
       "      <th>1</th>\n",
       "      <td>893</td>\n",
       "      <td>1</td>\n",
       "      <td>3</td>\n",
       "      <td>Wilkes, Mrs. James (Ellen Needs)</td>\n",
       "      <td>female</td>\n",
       "      <td>47.0</td>\n",
       "      <td>1</td>\n",
       "      <td>0</td>\n",
       "      <td>363272</td>\n",
       "      <td>7.0000</td>\n",
       "      <td>S</td>\n",
       "      <td>1.385449</td>\n",
       "      <td>-0.512660</td>\n",
       "    </tr>\n",
       "    <tr>\n",
       "      <th>2</th>\n",
       "      <td>894</td>\n",
       "      <td>0</td>\n",
       "      <td>2</td>\n",
       "      <td>Myles, Mr. Thomas Francis</td>\n",
       "      <td>male</td>\n",
       "      <td>62.0</td>\n",
       "      <td>0</td>\n",
       "      <td>0</td>\n",
       "      <td>240276</td>\n",
       "      <td>9.6875</td>\n",
       "      <td>Q</td>\n",
       "      <td>2.574688</td>\n",
       "      <td>-0.464532</td>\n",
       "    </tr>\n",
       "    <tr>\n",
       "      <th>3</th>\n",
       "      <td>895</td>\n",
       "      <td>0</td>\n",
       "      <td>3</td>\n",
       "      <td>Wirz, Mr. Albert</td>\n",
       "      <td>male</td>\n",
       "      <td>27.0</td>\n",
       "      <td>0</td>\n",
       "      <td>0</td>\n",
       "      <td>315154</td>\n",
       "      <td>8.6625</td>\n",
       "      <td>S</td>\n",
       "      <td>-0.200203</td>\n",
       "      <td>-0.482888</td>\n",
       "    </tr>\n",
       "    <tr>\n",
       "      <th>4</th>\n",
       "      <td>896</td>\n",
       "      <td>1</td>\n",
       "      <td>3</td>\n",
       "      <td>Hirvonen, Mrs. Alexander (Helga E Lindqvist)</td>\n",
       "      <td>female</td>\n",
       "      <td>22.0</td>\n",
       "      <td>1</td>\n",
       "      <td>1</td>\n",
       "      <td>3101298</td>\n",
       "      <td>12.2875</td>\n",
       "      <td>S</td>\n",
       "      <td>-0.596616</td>\n",
       "      <td>-0.417971</td>\n",
       "    </tr>\n",
       "  </tbody>\n",
       "</table>\n",
       "</div>"
      ],
      "text/plain": [
       "   passengerid  survived  pclass  \\\n",
       "0          892         0       3   \n",
       "1          893         1       3   \n",
       "2          894         0       2   \n",
       "3          895         0       3   \n",
       "4          896         1       3   \n",
       "\n",
       "                                           name     sex   age  sibsp  parch  \\\n",
       "0                              Kelly, Mr. James    male  34.5      0      0   \n",
       "1              Wilkes, Mrs. James (Ellen Needs)  female  47.0      1      0   \n",
       "2                     Myles, Mr. Thomas Francis    male  62.0      0      0   \n",
       "3                              Wirz, Mr. Albert    male  27.0      0      0   \n",
       "4  Hirvonen, Mrs. Alexander (Helga E Lindqvist)  female  22.0      1      1   \n",
       "\n",
       "    ticket     fare embarked     age_2    fare_2  \n",
       "0   330911   7.8292        Q  0.394417 -0.497811  \n",
       "1   363272   7.0000        S  1.385449 -0.512660  \n",
       "2   240276   9.6875        Q  2.574688 -0.464532  \n",
       "3   315154   8.6625        S -0.200203 -0.482888  \n",
       "4  3101298  12.2875        S -0.596616 -0.417971  "
      ]
     },
     "execution_count": 19,
     "metadata": {},
     "output_type": "execute_result"
    }
   ],
   "source": [
    "from scipy.stats import zscore\n",
    "z_score=zscore(df[[\"age\",\"fare\"]])\n",
    "z_score.columns=[\"age_2\",\"fare_2\"]\n",
    "df=pd.concat([df,z_score],axis=1)\n",
    "df.head()"
   ]
  },
  {
   "cell_type": "markdown",
   "id": "d917a5c5",
   "metadata": {},
   "source": [
    "# MODEL BUILDING"
   ]
  },
  {
   "cell_type": "code",
   "execution_count": 20,
   "id": "e4c157d5",
   "metadata": {},
   "outputs": [],
   "source": [
    "x=df[['pclass', 'sex', 'age', 'sibsp',\n",
    "       'parch','fare', 'embarked']]\n",
    "y=df[\"survived\"]"
   ]
  },
  {
   "cell_type": "code",
   "execution_count": 21,
   "id": "ee623501",
   "metadata": {},
   "outputs": [],
   "source": [
    "x[\"sex\"]=x[\"sex\"].replace({\n",
    "    \"male\":1,\n",
    "    \"female\":0\n",
    "})\n",
    "\n",
    "x[\"embarked\"]=x[\"embarked\"].replace({\n",
    "    \"Q\":1,\n",
    "    \"S\":0,\n",
    "    \"C\":2\n",
    "})"
   ]
  },
  {
   "cell_type": "code",
   "execution_count": 22,
   "id": "d9e861a1",
   "metadata": {},
   "outputs": [],
   "source": [
    "from sklearn.model_selection import train_test_split\n",
    "from sklearn.metrics import*\n",
    "x_train,x_test,y_train,y_test=train_test_split(x,y,random_state=50,test_size=0.4)\n",
    "from sklearn.preprocessing import StandardScaler\n",
    "scaler=StandardScaler()\n",
    "x_train=scaler.fit_transform(x_train)\n",
    "x_test=scaler.transform(x_test)"
   ]
  },
  {
   "cell_type": "code",
   "execution_count": 23,
   "id": "176eeaed",
   "metadata": {},
   "outputs": [],
   "source": [
    "\n",
    "from sklearn.linear_model import LogisticRegression\n",
    "from sklearn.ensemble import AdaBoostClassifier,HistGradientBoostingClassifier,BaggingClassifier,RandomForestClassifier,ExtraTreesClassifier\n",
    "from sklearn.ensemble import StackingClassifier\n",
    "from sklearn.tree import DecisionTreeClassifier\n",
    "from sklearn.neighbors import KNeighborsClassifier\n",
    "from sklearn.svm import SVC\n",
    "from sklearn.gaussian_process import GaussianProcessClassifier\n",
    "from sklearn.model_selection import cross_val_score\n"
   ]
  },
  {
   "cell_type": "code",
   "execution_count": 24,
   "id": "093d34aa",
   "metadata": {},
   "outputs": [],
   "source": [
    "logistic=LogisticRegression()\n",
    "ada=AdaBoostClassifier(learning_rate=0.1,n_estimators=100)\n",
    "hist=HistGradientBoostingClassifier()\n",
    "bag=BaggingClassifier()\n",
    "ran=RandomForestClassifier()\n",
    "ex=ExtraTreesClassifier()\n",
    "\n",
    "tree=DecisionTreeClassifier()\n",
    "knn=KNeighborsClassifier()\n",
    "svc=SVC()\n",
    "gus=GaussianProcessClassifier()"
   ]
  },
  {
   "cell_type": "code",
   "execution_count": 25,
   "id": "7061ce4e",
   "metadata": {
    "scrolled": true
   },
   "outputs": [
    {
     "name": "stdout",
     "output_type": "stream",
     "text": [
      "The accuracy score for Logistic algorithm is 1.0\n",
      "The accuracy score for Adaboost algorithm is 1.0\n",
      "The accuracy score for Hist algorithm is 1.0\n",
      "The accuracy score for Bagging classifier algorithm is 1.0\n",
      "The accuracy score for Random Forest algorithm is 1.0\n",
      "The accuracy score for Extra trees algorithm is 1.0\n",
      "The accuracy score for Decision Tree algorithm is 1.0\n",
      "The accuracy score for K nearest Neighbor algorithm is 0.99\n",
      "The accuracy score for Support Vector Machine algorithm is 0.99\n",
      "The accuracy score for Gaussian algorithm is 0.99\n"
     ]
    }
   ],
   "source": [
    "models=[logistic,ada,hist,bag,ran,ex,tree,knn,svc,gus]\n",
    "model_names=[\"Logistic\",\"Adaboost\",\"Hist\",\"Bagging classifier\",\n",
    "            \"Random Forest\",\"Extra trees\",\"Decision Tree\",\"K nearest Neighbor\",\"Support Vector Machine\",\"Gaussian\"]\n",
    "for name,model in zip(model_names,models):\n",
    "    model.fit(x_train,y_train)\n",
    "    y_pred=model.predict(x_test)\n",
    "    score=accuracy_score(y_test,y_pred)\n",
    "    print(f'The accuracy score for {name} algorithm is {round(score,2)}')"
   ]
  },
  {
   "cell_type": "code",
   "execution_count": 26,
   "id": "e6b1e840",
   "metadata": {},
   "outputs": [
    {
     "name": "stdout",
     "output_type": "stream",
     "text": [
      "The accuracy score for Logistic algorithm is 1.0\n",
      "The accuracy score for Adaboost algorithm is 1.0\n",
      "The accuracy score for Hist algorithm is 1.0\n",
      "The accuracy score for Bagging classifier algorithm is 1.0\n",
      "The accuracy score for Random Forest algorithm is 1.0\n",
      "The accuracy score for Extra trees algorithm is 1.0\n",
      "The accuracy score for Decision Tree algorithm is 1.0\n",
      "The accuracy score for K nearest Neighbor algorithm is 1.0\n",
      "The accuracy score for Support Vector Machine algorithm is 1.0\n",
      "The accuracy score for Gaussian algorithm is 1.0\n"
     ]
    }
   ],
   "source": [
    "models=[logistic,ada,hist,bag,ran,ex,tree,knn,svc,gus]\n",
    "model_names=[\"Logistic\",\"Adaboost\",\"Hist\",\"Bagging classifier\",\n",
    "            \"Random Forest\",\"Extra trees\",\"Decision Tree\",\"K nearest Neighbor\",\"Support Vector Machine\",\"Gaussian\"]\n",
    "for name,model in zip(model_names,models):\n",
    "    model.fit(x_train,y_train)\n",
    "    y_pred=model.predict(x_train)\n",
    "    score=accuracy_score(y_train,y_pred)\n",
    "    print(f'The accuracy score for {name} algorithm is {round(score,2)}')"
   ]
  },
  {
   "cell_type": "code",
   "execution_count": 27,
   "id": "5398dbae",
   "metadata": {},
   "outputs": [
    {
     "name": "stdout",
     "output_type": "stream",
     "text": [
      "The accuracy score for Logistic algorithm is 1.0\n",
      "The accuracy score for Adaboost algorithm is 1.0\n",
      "The accuracy score for Hist algorithm is 1.0\n",
      "The accuracy score for Bagging classifier algorithm is 1.0\n",
      "The accuracy score for Random Forest algorithm is 1.0\n",
      "The accuracy score for Extra trees algorithm is 1.0\n",
      "The accuracy score for Decision Tree algorithm is 1.0\n",
      "The accuracy score for K nearest Neighbor algorithm is 0.98\n",
      "The accuracy score for Support Vector Machine algorithm is 1.0\n",
      "The accuracy score for Gaussian algorithm is 1.0\n"
     ]
    }
   ],
   "source": [
    "models=[logistic,ada,hist,bag,ran,ex,tree,knn,svc,gus]\n",
    "model_names=[\"Logistic\",\"Adaboost\",\"Hist\",\"Bagging classifier\",\n",
    "            \"Random Forest\",\"Extra trees\",\"Decision Tree\",\"K nearest Neighbor\",\"Support Vector Machine\",\"Gaussian\"]\n",
    "for name,model in zip(model_names,models):\n",
    "    model.fit(x_train,y_train)\n",
    "    y_pred=model.predict(x_train)\n",
    "    score=cross_val_score(model,x_test,y_test,cv=100).mean()\n",
    "    print(f'The accuracy score for {name} algorithm is {round(score,2)}')\n",
    "    \n",
    "    #cross_val_score(clf,x_test1,y_test1,cv=100).mean()"
   ]
  },
  {
   "cell_type": "code",
   "execution_count": 28,
   "id": "594f9cfc",
   "metadata": {},
   "outputs": [
    {
     "name": "stdout",
     "output_type": "stream",
     "text": [
      "\n",
      "The classification report  for Logistic algorithm is               precision    recall  f1-score   support\n",
      "\n",
      "           0       1.00      1.00      1.00       164\n",
      "           1       1.00      1.00      1.00        86\n",
      "\n",
      "    accuracy                           1.00       250\n",
      "   macro avg       1.00      1.00      1.00       250\n",
      "weighted avg       1.00      1.00      1.00       250\n",
      "\n",
      "\n",
      "The classification report  for Adaboost algorithm is               precision    recall  f1-score   support\n",
      "\n",
      "           0       1.00      1.00      1.00       164\n",
      "           1       1.00      1.00      1.00        86\n",
      "\n",
      "    accuracy                           1.00       250\n",
      "   macro avg       1.00      1.00      1.00       250\n",
      "weighted avg       1.00      1.00      1.00       250\n",
      "\n",
      "\n",
      "The classification report  for Hist algorithm is               precision    recall  f1-score   support\n",
      "\n",
      "           0       1.00      1.00      1.00       164\n",
      "           1       1.00      1.00      1.00        86\n",
      "\n",
      "    accuracy                           1.00       250\n",
      "   macro avg       1.00      1.00      1.00       250\n",
      "weighted avg       1.00      1.00      1.00       250\n",
      "\n",
      "\n",
      "The classification report  for Bagging classifier algorithm is               precision    recall  f1-score   support\n",
      "\n",
      "           0       1.00      1.00      1.00       164\n",
      "           1       1.00      1.00      1.00        86\n",
      "\n",
      "    accuracy                           1.00       250\n",
      "   macro avg       1.00      1.00      1.00       250\n",
      "weighted avg       1.00      1.00      1.00       250\n",
      "\n",
      "\n",
      "The classification report  for Random Forest algorithm is               precision    recall  f1-score   support\n",
      "\n",
      "           0       1.00      1.00      1.00       164\n",
      "           1       1.00      1.00      1.00        86\n",
      "\n",
      "    accuracy                           1.00       250\n",
      "   macro avg       1.00      1.00      1.00       250\n",
      "weighted avg       1.00      1.00      1.00       250\n",
      "\n",
      "\n",
      "The classification report  for Extra trees algorithm is               precision    recall  f1-score   support\n",
      "\n",
      "           0       1.00      1.00      1.00       164\n",
      "           1       1.00      1.00      1.00        86\n",
      "\n",
      "    accuracy                           1.00       250\n",
      "   macro avg       1.00      1.00      1.00       250\n",
      "weighted avg       1.00      1.00      1.00       250\n",
      "\n",
      "\n",
      "The classification report  for Decision Tree algorithm is               precision    recall  f1-score   support\n",
      "\n",
      "           0       1.00      1.00      1.00       164\n",
      "           1       1.00      1.00      1.00        86\n",
      "\n",
      "    accuracy                           1.00       250\n",
      "   macro avg       1.00      1.00      1.00       250\n",
      "weighted avg       1.00      1.00      1.00       250\n",
      "\n",
      "\n",
      "The classification report  for K nearest Neighbor algorithm is               precision    recall  f1-score   support\n",
      "\n",
      "           0       1.00      0.99      1.00       164\n",
      "           1       0.99      1.00      0.99        86\n",
      "\n",
      "    accuracy                           1.00       250\n",
      "   macro avg       0.99      1.00      1.00       250\n",
      "weighted avg       1.00      1.00      1.00       250\n",
      "\n",
      "\n",
      "The classification report  for Support Vector Machine algorithm is               precision    recall  f1-score   support\n",
      "\n",
      "           0       1.00      1.00      1.00       164\n",
      "           1       1.00      1.00      1.00        86\n",
      "\n",
      "    accuracy                           1.00       250\n",
      "   macro avg       1.00      1.00      1.00       250\n",
      "weighted avg       1.00      1.00      1.00       250\n",
      "\n",
      "\n",
      "The classification report  for Gaussian algorithm is               precision    recall  f1-score   support\n",
      "\n",
      "           0       1.00      1.00      1.00       164\n",
      "           1       1.00      1.00      1.00        86\n",
      "\n",
      "    accuracy                           1.00       250\n",
      "   macro avg       1.00      1.00      1.00       250\n",
      "weighted avg       1.00      1.00      1.00       250\n",
      "\n"
     ]
    }
   ],
   "source": [
    "models=[logistic,ada,hist,bag,ran,ex,tree,knn,svc,gus]\n",
    "model_names=[\"Logistic\",\"Adaboost\",\"Hist\",\"Bagging classifier\",\n",
    "            \"Random Forest\",\"Extra trees\",\"Decision Tree\",\"K nearest Neighbor\",\"Support Vector Machine\",\"Gaussian\"]\n",
    "for name,model in zip(model_names,models):\n",
    "    model.fit(x_train,y_train)\n",
    "    y_pred=model.predict(x_train)\n",
    "    score=classification_report(y_train,y_pred)\n",
    "    print(f'\\nThe classification report  for {name} algorithm is {score}')\n",
    "  "
   ]
  },
  {
   "cell_type": "code",
   "execution_count": 29,
   "id": "c37e8b5e",
   "metadata": {
    "scrolled": true
   },
   "outputs": [
    {
     "name": "stdout",
     "output_type": "stream",
     "text": [
      "\n",
      "The confusion matrix for Logistic algorithm is \n",
      " [[164   0]\n",
      " [  0  86]]\n",
      "\n",
      "The confusion matrix for Adaboost algorithm is \n",
      " [[164   0]\n",
      " [  0  86]]\n",
      "\n",
      "The confusion matrix for Hist algorithm is \n",
      " [[164   0]\n",
      " [  0  86]]\n",
      "\n",
      "The confusion matrix for Bagging classifier algorithm is \n",
      " [[164   0]\n",
      " [  0  86]]\n",
      "\n",
      "The confusion matrix for Random Forest algorithm is \n",
      " [[164   0]\n",
      " [  0  86]]\n",
      "\n",
      "The confusion matrix for Extra trees algorithm is \n",
      " [[164   0]\n",
      " [  0  86]]\n",
      "\n",
      "The confusion matrix for Decision Tree algorithm is \n",
      " [[164   0]\n",
      " [  0  86]]\n",
      "\n",
      "The confusion matrix for K nearest Neighbor algorithm is \n",
      " [[163   1]\n",
      " [  0  86]]\n",
      "\n",
      "The confusion matrix for Support Vector Machine algorithm is \n",
      " [[164   0]\n",
      " [  0  86]]\n",
      "\n",
      "The confusion matrix for Gaussian algorithm is \n",
      " [[164   0]\n",
      " [  0  86]]\n"
     ]
    }
   ],
   "source": [
    "models=[logistic,ada,hist,bag,ran,ex,tree,knn,svc,gus]\n",
    "model_names=[\"Logistic\",\"Adaboost\",\"Hist\",\"Bagging classifier\",\n",
    "            \"Random Forest\",\"Extra trees\",\"Decision Tree\",\"K nearest Neighbor\",\"Support Vector Machine\",\"Gaussian\"]\n",
    "for name,model in zip(model_names,models):\n",
    "    model.fit(x_train,y_train)\n",
    "    y_pred=model.predict(x_train)\n",
    "    score=confusion_matrix(y_train,y_pred)\n",
    "    print(f'\\nThe confusion matrix for {name} algorithm is \\n {score}')\n",
    "  "
   ]
  },
  {
   "cell_type": "code",
   "execution_count": 30,
   "id": "2d28cd1f",
   "metadata": {
    "scrolled": true
   },
   "outputs": [
    {
     "name": "stdout",
     "output_type": "stream",
     "text": [
      "The accuracy score for Logistic algorithm is 1.0\n",
      "The accuracy score for Adaboost algorithm is 1.0\n",
      "The accuracy score for Hist algorithm is 1.0\n",
      "The accuracy score for Bagging classifier algorithm is 1.0\n",
      "The accuracy score for Random Forest algorithm is 1.0\n",
      "The accuracy score for Extra trees algorithm is 1.0\n",
      "The accuracy score for Decision Tree algorithm is 1.0\n",
      "The accuracy score for K nearest Neighbor algorithm is 0.9969512195121951\n",
      "The accuracy score for Support Vector Machine algorithm is 1.0\n",
      "The accuracy score for Gaussian algorithm is 1.0\n"
     ]
    }
   ],
   "source": [
    "models=[logistic,ada,hist,bag,ran,ex,tree,knn,svc,gus]\n",
    "model_names=[\"Logistic\",\"Adaboost\",\"Hist\",\"Bagging classifier\",\n",
    "            \"Random Forest\",\"Extra trees\",\"Decision Tree\",\"K nearest Neighbor\",\"Support Vector Machine\",\"Gaussian\"]\n",
    "for name,model in zip(model_names,models):\n",
    "    model.fit(x_train,y_train)\n",
    "    y_pred=model.predict(x_train)\n",
    "    score=roc_auc_score(y_train,y_pred)\n",
    "    print(f'The accuracy score for {name} algorithm is {score}')"
   ]
  },
  {
   "cell_type": "code",
   "execution_count": 31,
   "id": "f315b89c",
   "metadata": {},
   "outputs": [],
   "source": [
    "x_val=x_train[200:]\n",
    "y_val=y_train[200:]"
   ]
  },
  {
   "cell_type": "code",
   "execution_count": 32,
   "id": "a026e784",
   "metadata": {},
   "outputs": [],
   "source": [
    "import tensorflow as tf\n",
    "from tensorflow.keras.regularizers import l1\n",
    "from tensorflow.keras.layers import Dense,Dropout\n",
    "from tensorflow.keras.models import Sequential\n",
    "from tensorflow.keras.metrics import *"
   ]
  },
  {
   "cell_type": "code",
   "execution_count": 33,
   "id": "b6351803",
   "metadata": {},
   "outputs": [
    {
     "name": "stdout",
     "output_type": "stream",
     "text": [
      "Epoch 1/100\n",
      "\u001b[1m4/4\u001b[0m \u001b[32m━━━━━━━━━━━━━━━━━━━━\u001b[0m\u001b[37m\u001b[0m \u001b[1m3s\u001b[0m 116ms/step - accuracy: 0.3886 - loss: 1.8439 - val_accuracy: 0.2800 - val_loss: 1.0240\n",
      "Epoch 2/100\n",
      "\u001b[1m4/4\u001b[0m \u001b[32m━━━━━━━━━━━━━━━━━━━━\u001b[0m\u001b[37m\u001b[0m \u001b[1m0s\u001b[0m 13ms/step - accuracy: 0.4790 - loss: 1.4385 - val_accuracy: 0.4400 - val_loss: 0.7428\n",
      "Epoch 3/100\n",
      "\u001b[1m4/4\u001b[0m \u001b[32m━━━━━━━━━━━━━━━━━━━━\u001b[0m\u001b[37m\u001b[0m \u001b[1m0s\u001b[0m 14ms/step - accuracy: 0.5352 - loss: 1.2219 - val_accuracy: 0.7800 - val_loss: 0.5750\n",
      "Epoch 4/100\n",
      "\u001b[1m4/4\u001b[0m \u001b[32m━━━━━━━━━━━━━━━━━━━━\u001b[0m\u001b[37m\u001b[0m \u001b[1m0s\u001b[0m 15ms/step - accuracy: 0.5689 - loss: 1.0933 - val_accuracy: 0.7600 - val_loss: 0.4771\n",
      "Epoch 5/100\n",
      "\u001b[1m4/4\u001b[0m \u001b[32m━━━━━━━━━━━━━━━━━━━━\u001b[0m\u001b[37m\u001b[0m \u001b[1m0s\u001b[0m 15ms/step - accuracy: 0.5879 - loss: 1.1427 - val_accuracy: 0.7600 - val_loss: 0.4124\n",
      "Epoch 6/100\n",
      "\u001b[1m4/4\u001b[0m \u001b[32m━━━━━━━━━━━━━━━━━━━━\u001b[0m\u001b[37m\u001b[0m \u001b[1m0s\u001b[0m 14ms/step - accuracy: 0.6173 - loss: 1.1391 - val_accuracy: 0.8000 - val_loss: 0.3614\n",
      "Epoch 7/100\n",
      "\u001b[1m4/4\u001b[0m \u001b[32m━━━━━━━━━━━━━━━━━━━━\u001b[0m\u001b[37m\u001b[0m \u001b[1m0s\u001b[0m 14ms/step - accuracy: 0.6315 - loss: 0.8951 - val_accuracy: 0.8800 - val_loss: 0.3191\n",
      "Epoch 8/100\n",
      "\u001b[1m4/4\u001b[0m \u001b[32m━━━━━━━━━━━━━━━━━━━━\u001b[0m\u001b[37m\u001b[0m \u001b[1m0s\u001b[0m 16ms/step - accuracy: 0.6432 - loss: 0.8408 - val_accuracy: 0.9000 - val_loss: 0.2839\n",
      "Epoch 9/100\n",
      "\u001b[1m4/4\u001b[0m \u001b[32m━━━━━━━━━━━━━━━━━━━━\u001b[0m\u001b[37m\u001b[0m \u001b[1m0s\u001b[0m 14ms/step - accuracy: 0.6935 - loss: 0.7831 - val_accuracy: 0.9200 - val_loss: 0.2574\n",
      "Epoch 10/100\n",
      "\u001b[1m4/4\u001b[0m \u001b[32m━━━━━━━━━━━━━━━━━━━━\u001b[0m\u001b[37m\u001b[0m \u001b[1m0s\u001b[0m 15ms/step - accuracy: 0.6563 - loss: 0.8644 - val_accuracy: 0.9200 - val_loss: 0.2400\n",
      "Epoch 11/100\n",
      "\u001b[1m4/4\u001b[0m \u001b[32m━━━━━━━━━━━━━━━━━━━━\u001b[0m\u001b[37m\u001b[0m \u001b[1m0s\u001b[0m 14ms/step - accuracy: 0.7387 - loss: 0.6325 - val_accuracy: 0.9200 - val_loss: 0.2238\n",
      "Epoch 12/100\n",
      "\u001b[1m4/4\u001b[0m \u001b[32m━━━━━━━━━━━━━━━━━━━━\u001b[0m\u001b[37m\u001b[0m \u001b[1m0s\u001b[0m 13ms/step - accuracy: 0.7094 - loss: 0.7359 - val_accuracy: 0.9200 - val_loss: 0.2090\n",
      "Epoch 13/100\n",
      "\u001b[1m4/4\u001b[0m \u001b[32m━━━━━━━━━━━━━━━━━━━━\u001b[0m\u001b[37m\u001b[0m \u001b[1m0s\u001b[0m 15ms/step - accuracy: 0.7763 - loss: 0.5778 - val_accuracy: 0.9200 - val_loss: 0.1971\n",
      "Epoch 14/100\n",
      "\u001b[1m4/4\u001b[0m \u001b[32m━━━━━━━━━━━━━━━━━━━━\u001b[0m\u001b[37m\u001b[0m \u001b[1m0s\u001b[0m 16ms/step - accuracy: 0.7494 - loss: 0.6214 - val_accuracy: 0.9400 - val_loss: 0.1826\n",
      "Epoch 15/100\n",
      "\u001b[1m4/4\u001b[0m \u001b[32m━━━━━━━━━━━━━━━━━━━━\u001b[0m\u001b[37m\u001b[0m \u001b[1m0s\u001b[0m 14ms/step - accuracy: 0.7425 - loss: 0.6084 - val_accuracy: 0.9600 - val_loss: 0.1728\n",
      "Epoch 16/100\n",
      "\u001b[1m4/4\u001b[0m \u001b[32m━━━━━━━━━━━━━━━━━━━━\u001b[0m\u001b[37m\u001b[0m \u001b[1m0s\u001b[0m 13ms/step - accuracy: 0.8334 - loss: 0.4380 - val_accuracy: 0.9600 - val_loss: 0.1658\n",
      "Epoch 17/100\n",
      "\u001b[1m4/4\u001b[0m \u001b[32m━━━━━━━━━━━━━━━━━━━━\u001b[0m\u001b[37m\u001b[0m \u001b[1m0s\u001b[0m 18ms/step - accuracy: 0.7682 - loss: 0.6807 - val_accuracy: 0.9600 - val_loss: 0.1644\n",
      "Epoch 18/100\n",
      "\u001b[1m4/4\u001b[0m \u001b[32m━━━━━━━━━━━━━━━━━━━━\u001b[0m\u001b[37m\u001b[0m \u001b[1m0s\u001b[0m 19ms/step - accuracy: 0.8238 - loss: 0.3881 - val_accuracy: 0.9600 - val_loss: 0.1662\n",
      "Epoch 19/100\n",
      "\u001b[1m4/4\u001b[0m \u001b[32m━━━━━━━━━━━━━━━━━━━━\u001b[0m\u001b[37m\u001b[0m \u001b[1m0s\u001b[0m 14ms/step - accuracy: 0.8350 - loss: 0.4348 - val_accuracy: 0.9600 - val_loss: 0.1654\n",
      "Epoch 20/100\n",
      "\u001b[1m4/4\u001b[0m \u001b[32m━━━━━━━━━━━━━━━━━━━━\u001b[0m\u001b[37m\u001b[0m \u001b[1m0s\u001b[0m 16ms/step - accuracy: 0.8144 - loss: 0.5215 - val_accuracy: 0.9600 - val_loss: 0.1581\n",
      "Epoch 21/100\n",
      "\u001b[1m4/4\u001b[0m \u001b[32m━━━━━━━━━━━━━━━━━━━━\u001b[0m\u001b[37m\u001b[0m \u001b[1m0s\u001b[0m 14ms/step - accuracy: 0.8329 - loss: 0.4406 - val_accuracy: 0.9600 - val_loss: 0.1531\n",
      "Epoch 22/100\n",
      "\u001b[1m4/4\u001b[0m \u001b[32m━━━━━━━━━━━━━━━━━━━━\u001b[0m\u001b[37m\u001b[0m \u001b[1m0s\u001b[0m 13ms/step - accuracy: 0.8249 - loss: 0.4297 - val_accuracy: 0.9600 - val_loss: 0.1455\n",
      "Epoch 23/100\n",
      "\u001b[1m4/4\u001b[0m \u001b[32m━━━━━━━━━━━━━━━━━━━━\u001b[0m\u001b[37m\u001b[0m \u001b[1m0s\u001b[0m 15ms/step - accuracy: 0.8721 - loss: 0.3821 - val_accuracy: 0.9600 - val_loss: 0.1368\n",
      "Epoch 24/100\n",
      "\u001b[1m4/4\u001b[0m \u001b[32m━━━━━━━━━━━━━━━━━━━━\u001b[0m\u001b[37m\u001b[0m \u001b[1m0s\u001b[0m 14ms/step - accuracy: 0.8758 - loss: 0.3124 - val_accuracy: 0.9600 - val_loss: 0.1310\n",
      "Epoch 25/100\n",
      "\u001b[1m4/4\u001b[0m \u001b[32m━━━━━━━━━━━━━━━━━━━━\u001b[0m\u001b[37m\u001b[0m \u001b[1m0s\u001b[0m 15ms/step - accuracy: 0.8394 - loss: 0.3954 - val_accuracy: 0.9600 - val_loss: 0.1271\n",
      "Epoch 26/100\n",
      "\u001b[1m4/4\u001b[0m \u001b[32m━━━━━━━━━━━━━━━━━━━━\u001b[0m\u001b[37m\u001b[0m \u001b[1m0s\u001b[0m 14ms/step - accuracy: 0.8874 - loss: 0.2786 - val_accuracy: 0.9600 - val_loss: 0.1267\n",
      "Epoch 27/100\n",
      "\u001b[1m4/4\u001b[0m \u001b[32m━━━━━━━━━━━━━━━━━━━━\u001b[0m\u001b[37m\u001b[0m \u001b[1m0s\u001b[0m 15ms/step - accuracy: 0.8890 - loss: 0.3258 - val_accuracy: 0.9600 - val_loss: 0.1250\n",
      "Epoch 28/100\n",
      "\u001b[1m4/4\u001b[0m \u001b[32m━━━━━━━━━━━━━━━━━━━━\u001b[0m\u001b[37m\u001b[0m \u001b[1m0s\u001b[0m 13ms/step - accuracy: 0.8853 - loss: 0.2600 - val_accuracy: 0.9600 - val_loss: 0.1185\n",
      "Epoch 29/100\n",
      "\u001b[1m4/4\u001b[0m \u001b[32m━━━━━━━━━━━━━━━━━━━━\u001b[0m\u001b[37m\u001b[0m \u001b[1m0s\u001b[0m 15ms/step - accuracy: 0.8680 - loss: 0.3681 - val_accuracy: 0.9600 - val_loss: 0.1123\n",
      "Epoch 30/100\n",
      "\u001b[1m4/4\u001b[0m \u001b[32m━━━━━━━━━━━━━━━━━━━━\u001b[0m\u001b[37m\u001b[0m \u001b[1m0s\u001b[0m 14ms/step - accuracy: 0.8692 - loss: 0.3097 - val_accuracy: 0.9600 - val_loss: 0.1023\n",
      "Epoch 31/100\n",
      "\u001b[1m4/4\u001b[0m \u001b[32m━━━━━━━━━━━━━━━━━━━━\u001b[0m\u001b[37m\u001b[0m \u001b[1m0s\u001b[0m 12ms/step - accuracy: 0.9013 - loss: 0.2646 - val_accuracy: 0.9600 - val_loss: 0.0941\n",
      "Epoch 32/100\n",
      "\u001b[1m4/4\u001b[0m \u001b[32m━━━━━━━━━━━━━━━━━━━━\u001b[0m\u001b[37m\u001b[0m \u001b[1m0s\u001b[0m 14ms/step - accuracy: 0.9241 - loss: 0.1920 - val_accuracy: 0.9600 - val_loss: 0.0852\n",
      "Epoch 33/100\n",
      "\u001b[1m4/4\u001b[0m \u001b[32m━━━━━━━━━━━━━━━━━━━━\u001b[0m\u001b[37m\u001b[0m \u001b[1m0s\u001b[0m 15ms/step - accuracy: 0.8629 - loss: 0.2912 - val_accuracy: 0.9600 - val_loss: 0.0783\n",
      "Epoch 34/100\n",
      "\u001b[1m4/4\u001b[0m \u001b[32m━━━━━━━━━━━━━━━━━━━━\u001b[0m\u001b[37m\u001b[0m \u001b[1m0s\u001b[0m 13ms/step - accuracy: 0.8876 - loss: 0.2491 - val_accuracy: 0.9600 - val_loss: 0.0736\n",
      "Epoch 35/100\n",
      "\u001b[1m4/4\u001b[0m \u001b[32m━━━━━━━━━━━━━━━━━━━━\u001b[0m\u001b[37m\u001b[0m \u001b[1m0s\u001b[0m 14ms/step - accuracy: 0.9139 - loss: 0.2592 - val_accuracy: 0.9600 - val_loss: 0.0690\n",
      "Epoch 36/100\n",
      "\u001b[1m4/4\u001b[0m \u001b[32m━━━━━━━━━━━━━━━━━━━━\u001b[0m\u001b[37m\u001b[0m \u001b[1m0s\u001b[0m 14ms/step - accuracy: 0.9132 - loss: 0.2500 - val_accuracy: 0.9600 - val_loss: 0.0671\n",
      "Epoch 37/100\n",
      "\u001b[1m4/4\u001b[0m \u001b[32m━━━━━━━━━━━━━━━━━━━━\u001b[0m\u001b[37m\u001b[0m \u001b[1m0s\u001b[0m 13ms/step - accuracy: 0.9023 - loss: 0.2014 - val_accuracy: 0.9600 - val_loss: 0.0638\n",
      "Epoch 38/100\n",
      "\u001b[1m4/4\u001b[0m \u001b[32m━━━━━━━━━━━━━━━━━━━━\u001b[0m\u001b[37m\u001b[0m \u001b[1m0s\u001b[0m 15ms/step - accuracy: 0.8855 - loss: 0.2967 - val_accuracy: 0.9600 - val_loss: 0.0628\n",
      "Epoch 39/100\n",
      "\u001b[1m4/4\u001b[0m \u001b[32m━━━━━━━━━━━━━━━━━━━━\u001b[0m\u001b[37m\u001b[0m \u001b[1m0s\u001b[0m 14ms/step - accuracy: 0.9222 - loss: 0.1684 - val_accuracy: 0.9600 - val_loss: 0.0621\n",
      "Epoch 40/100\n",
      "\u001b[1m4/4\u001b[0m \u001b[32m━━━━━━━━━━━━━━━━━━━━\u001b[0m\u001b[37m\u001b[0m \u001b[1m0s\u001b[0m 13ms/step - accuracy: 0.9143 - loss: 0.2536 - val_accuracy: 0.9600 - val_loss: 0.0628\n",
      "Epoch 41/100\n",
      "\u001b[1m4/4\u001b[0m \u001b[32m━━━━━━━━━━━━━━━━━━━━\u001b[0m\u001b[37m\u001b[0m \u001b[1m0s\u001b[0m 15ms/step - accuracy: 0.9113 - loss: 0.2356 - val_accuracy: 0.9600 - val_loss: 0.0630\n",
      "Epoch 42/100\n",
      "\u001b[1m4/4\u001b[0m \u001b[32m━━━━━━━━━━━━━━━━━━━━\u001b[0m\u001b[37m\u001b[0m \u001b[1m0s\u001b[0m 13ms/step - accuracy: 0.9086 - loss: 0.3152 - val_accuracy: 0.9600 - val_loss: 0.0611\n",
      "Epoch 43/100\n",
      "\u001b[1m4/4\u001b[0m \u001b[32m━━━━━━━━━━━━━━━━━━━━\u001b[0m\u001b[37m\u001b[0m \u001b[1m0s\u001b[0m 14ms/step - accuracy: 0.9357 - loss: 0.1591 - val_accuracy: 0.9600 - val_loss: 0.0555\n",
      "Epoch 44/100\n",
      "\u001b[1m4/4\u001b[0m \u001b[32m━━━━━━━━━━━━━━━━━━━━\u001b[0m\u001b[37m\u001b[0m \u001b[1m0s\u001b[0m 13ms/step - accuracy: 0.9427 - loss: 0.2274 - val_accuracy: 0.9600 - val_loss: 0.0500\n",
      "Epoch 45/100\n",
      "\u001b[1m4/4\u001b[0m \u001b[32m━━━━━━━━━━━━━━━━━━━━\u001b[0m\u001b[37m\u001b[0m \u001b[1m0s\u001b[0m 14ms/step - accuracy: 0.9437 - loss: 0.1975 - val_accuracy: 0.9600 - val_loss: 0.0442\n",
      "Epoch 46/100\n",
      "\u001b[1m4/4\u001b[0m \u001b[32m━━━━━━━━━━━━━━━━━━━━\u001b[0m\u001b[37m\u001b[0m \u001b[1m0s\u001b[0m 20ms/step - accuracy: 0.9285 - loss: 0.1601 - val_accuracy: 0.9600 - val_loss: 0.0398\n",
      "Epoch 47/100\n",
      "\u001b[1m4/4\u001b[0m \u001b[32m━━━━━━━━━━━━━━━━━━━━\u001b[0m\u001b[37m\u001b[0m \u001b[1m0s\u001b[0m 18ms/step - accuracy: 0.9043 - loss: 0.2492 - val_accuracy: 0.9600 - val_loss: 0.0374\n",
      "Epoch 48/100\n",
      "\u001b[1m4/4\u001b[0m \u001b[32m━━━━━━━━━━━━━━━━━━━━\u001b[0m\u001b[37m\u001b[0m \u001b[1m0s\u001b[0m 15ms/step - accuracy: 0.9301 - loss: 0.1699 - val_accuracy: 0.9800 - val_loss: 0.0342\n",
      "Epoch 49/100\n",
      "\u001b[1m4/4\u001b[0m \u001b[32m━━━━━━━━━━━━━━━━━━━━\u001b[0m\u001b[37m\u001b[0m \u001b[1m0s\u001b[0m 15ms/step - accuracy: 0.9316 - loss: 0.1955 - val_accuracy: 1.0000 - val_loss: 0.0322\n",
      "Epoch 50/100\n",
      "\u001b[1m4/4\u001b[0m \u001b[32m━━━━━━━━━━━━━━━━━━━━\u001b[0m\u001b[37m\u001b[0m \u001b[1m0s\u001b[0m 13ms/step - accuracy: 0.9165 - loss: 0.2112 - val_accuracy: 1.0000 - val_loss: 0.0301\n",
      "Epoch 51/100\n",
      "\u001b[1m4/4\u001b[0m \u001b[32m━━━━━━━━━━━━━━━━━━━━\u001b[0m\u001b[37m\u001b[0m \u001b[1m0s\u001b[0m 14ms/step - accuracy: 0.9582 - loss: 0.1144 - val_accuracy: 1.0000 - val_loss: 0.0293\n",
      "Epoch 52/100\n",
      "\u001b[1m4/4\u001b[0m \u001b[32m━━━━━━━━━━━━━━━━━━━━\u001b[0m\u001b[37m\u001b[0m \u001b[1m0s\u001b[0m 13ms/step - accuracy: 0.9506 - loss: 0.1496 - val_accuracy: 1.0000 - val_loss: 0.0292\n",
      "Epoch 53/100\n",
      "\u001b[1m4/4\u001b[0m \u001b[32m━━━━━━━━━━━━━━━━━━━━\u001b[0m\u001b[37m\u001b[0m \u001b[1m0s\u001b[0m 14ms/step - accuracy: 0.9312 - loss: 0.1819 - val_accuracy: 1.0000 - val_loss: 0.0309\n",
      "Epoch 54/100\n",
      "\u001b[1m4/4\u001b[0m \u001b[32m━━━━━━━━━━━━━━━━━━━━\u001b[0m\u001b[37m\u001b[0m \u001b[1m0s\u001b[0m 12ms/step - accuracy: 0.9554 - loss: 0.1066 - val_accuracy: 1.0000 - val_loss: 0.0282\n",
      "Epoch 55/100\n",
      "\u001b[1m4/4\u001b[0m \u001b[32m━━━━━━━━━━━━━━━━━━━━\u001b[0m\u001b[37m\u001b[0m \u001b[1m0s\u001b[0m 14ms/step - accuracy: 0.9396 - loss: 0.1629 - val_accuracy: 1.0000 - val_loss: 0.0252\n",
      "Epoch 56/100\n",
      "\u001b[1m4/4\u001b[0m \u001b[32m━━━━━━━━━━━━━━━━━━━━\u001b[0m\u001b[37m\u001b[0m \u001b[1m0s\u001b[0m 13ms/step - accuracy: 0.9427 - loss: 0.1363 - val_accuracy: 1.0000 - val_loss: 0.0227\n",
      "Epoch 57/100\n",
      "\u001b[1m4/4\u001b[0m \u001b[32m━━━━━━━━━━━━━━━━━━━━\u001b[0m\u001b[37m\u001b[0m \u001b[1m0s\u001b[0m 14ms/step - accuracy: 0.9574 - loss: 0.1141 - val_accuracy: 1.0000 - val_loss: 0.0205\n",
      "Epoch 58/100\n",
      "\u001b[1m4/4\u001b[0m \u001b[32m━━━━━━━━━━━━━━━━━━━━\u001b[0m\u001b[37m\u001b[0m \u001b[1m0s\u001b[0m 12ms/step - accuracy: 0.9437 - loss: 0.1492 - val_accuracy: 1.0000 - val_loss: 0.0190\n",
      "Epoch 59/100\n",
      "\u001b[1m4/4\u001b[0m \u001b[32m━━━━━━━━━━━━━━━━━━━━\u001b[0m\u001b[37m\u001b[0m \u001b[1m0s\u001b[0m 11ms/step - accuracy: 0.9627 - loss: 0.0851 - val_accuracy: 1.0000 - val_loss: 0.0181\n",
      "Epoch 60/100\n",
      "\u001b[1m4/4\u001b[0m \u001b[32m━━━━━━━━━━━━━━━━━━━━\u001b[0m\u001b[37m\u001b[0m \u001b[1m0s\u001b[0m 11ms/step - accuracy: 0.9710 - loss: 0.1358 - val_accuracy: 1.0000 - val_loss: 0.0176\n",
      "Epoch 61/100\n",
      "\u001b[1m4/4\u001b[0m \u001b[32m━━━━━━━━━━━━━━━━━━━━\u001b[0m\u001b[37m\u001b[0m \u001b[1m0s\u001b[0m 12ms/step - accuracy: 0.9531 - loss: 0.1441 - val_accuracy: 1.0000 - val_loss: 0.0166\n",
      "Epoch 62/100\n",
      "\u001b[1m4/4\u001b[0m \u001b[32m━━━━━━━━━━━━━━━━━━━━\u001b[0m\u001b[37m\u001b[0m \u001b[1m0s\u001b[0m 12ms/step - accuracy: 0.9622 - loss: 0.1415 - val_accuracy: 1.0000 - val_loss: 0.0166\n",
      "Epoch 63/100\n",
      "\u001b[1m4/4\u001b[0m \u001b[32m━━━━━━━━━━━━━━━━━━━━\u001b[0m\u001b[37m\u001b[0m \u001b[1m0s\u001b[0m 11ms/step - accuracy: 0.9192 - loss: 0.1786 - val_accuracy: 1.0000 - val_loss: 0.0171\n",
      "Epoch 64/100\n",
      "\u001b[1m4/4\u001b[0m \u001b[32m━━━━━━━━━━━━━━━━━━━━\u001b[0m\u001b[37m\u001b[0m \u001b[1m0s\u001b[0m 12ms/step - accuracy: 0.9433 - loss: 0.1499 - val_accuracy: 1.0000 - val_loss: 0.0174\n",
      "Epoch 65/100\n",
      "\u001b[1m4/4\u001b[0m \u001b[32m━━━━━━━━━━━━━━━━━━━━\u001b[0m\u001b[37m\u001b[0m \u001b[1m0s\u001b[0m 12ms/step - accuracy: 0.9506 - loss: 0.1057 - val_accuracy: 1.0000 - val_loss: 0.0172\n",
      "Epoch 66/100\n",
      "\u001b[1m4/4\u001b[0m \u001b[32m━━━━━━━━━━━━━━━━━━━━\u001b[0m\u001b[37m\u001b[0m \u001b[1m0s\u001b[0m 12ms/step - accuracy: 0.9605 - loss: 0.1257 - val_accuracy: 1.0000 - val_loss: 0.0168\n",
      "Epoch 67/100\n",
      "\u001b[1m4/4\u001b[0m \u001b[32m━━━━━━━━━━━━━━━━━━━━\u001b[0m\u001b[37m\u001b[0m \u001b[1m0s\u001b[0m 13ms/step - accuracy: 0.9438 - loss: 0.1725 - val_accuracy: 1.0000 - val_loss: 0.0156\n",
      "Epoch 68/100\n",
      "\u001b[1m4/4\u001b[0m \u001b[32m━━━━━━━━━━━━━━━━━━━━\u001b[0m\u001b[37m\u001b[0m \u001b[1m0s\u001b[0m 11ms/step - accuracy: 0.9475 - loss: 0.1708 - val_accuracy: 1.0000 - val_loss: 0.0145\n",
      "Epoch 69/100\n",
      "\u001b[1m4/4\u001b[0m \u001b[32m━━━━━━━━━━━━━━━━━━━━\u001b[0m\u001b[37m\u001b[0m \u001b[1m0s\u001b[0m 11ms/step - accuracy: 0.9407 - loss: 0.1829 - val_accuracy: 1.0000 - val_loss: 0.0132\n",
      "Epoch 70/100\n",
      "\u001b[1m4/4\u001b[0m \u001b[32m━━━━━━━━━━━━━━━━━━━━\u001b[0m\u001b[37m\u001b[0m \u001b[1m0s\u001b[0m 12ms/step - accuracy: 0.9722 - loss: 0.0673 - val_accuracy: 1.0000 - val_loss: 0.0124\n",
      "Epoch 71/100\n",
      "\u001b[1m4/4\u001b[0m \u001b[32m━━━━━━━━━━━━━━━━━━━━\u001b[0m\u001b[37m\u001b[0m \u001b[1m0s\u001b[0m 11ms/step - accuracy: 0.9679 - loss: 0.0938 - val_accuracy: 1.0000 - val_loss: 0.0118\n",
      "Epoch 72/100\n",
      "\u001b[1m4/4\u001b[0m \u001b[32m━━━━━━━━━━━━━━━━━━━━\u001b[0m\u001b[37m\u001b[0m \u001b[1m0s\u001b[0m 17ms/step - accuracy: 0.9763 - loss: 0.0807 - val_accuracy: 1.0000 - val_loss: 0.0114\n",
      "Epoch 73/100\n",
      "\u001b[1m4/4\u001b[0m \u001b[32m━━━━━━━━━━━━━━━━━━━━\u001b[0m\u001b[37m\u001b[0m \u001b[1m0s\u001b[0m 15ms/step - accuracy: 0.9517 - loss: 0.0972 - val_accuracy: 1.0000 - val_loss: 0.0109\n",
      "Epoch 74/100\n",
      "\u001b[1m4/4\u001b[0m \u001b[32m━━━━━━━━━━━━━━━━━━━━\u001b[0m\u001b[37m\u001b[0m \u001b[1m0s\u001b[0m 14ms/step - accuracy: 0.9574 - loss: 0.0964 - val_accuracy: 1.0000 - val_loss: 0.0098\n",
      "Epoch 75/100\n",
      "\u001b[1m4/4\u001b[0m \u001b[32m━━━━━━━━━━━━━━━━━━━━\u001b[0m\u001b[37m\u001b[0m \u001b[1m0s\u001b[0m 13ms/step - accuracy: 0.9711 - loss: 0.1084 - val_accuracy: 1.0000 - val_loss: 0.0090\n",
      "Epoch 76/100\n",
      "\u001b[1m4/4\u001b[0m \u001b[32m━━━━━━━━━━━━━━━━━━━━\u001b[0m\u001b[37m\u001b[0m \u001b[1m0s\u001b[0m 12ms/step - accuracy: 0.9721 - loss: 0.0760 - val_accuracy: 1.0000 - val_loss: 0.0082\n",
      "Epoch 77/100\n",
      "\u001b[1m4/4\u001b[0m \u001b[32m━━━━━━━━━━━━━━━━━━━━\u001b[0m\u001b[37m\u001b[0m \u001b[1m0s\u001b[0m 14ms/step - accuracy: 0.9753 - loss: 0.0991 - val_accuracy: 1.0000 - val_loss: 0.0075\n",
      "Epoch 78/100\n",
      "\u001b[1m4/4\u001b[0m \u001b[32m━━━━━━━━━━━━━━━━━━━━\u001b[0m\u001b[37m\u001b[0m \u001b[1m0s\u001b[0m 15ms/step - accuracy: 0.9706 - loss: 0.1073 - val_accuracy: 1.0000 - val_loss: 0.0068\n",
      "Epoch 79/100\n",
      "\u001b[1m4/4\u001b[0m \u001b[32m━━━━━━━━━━━━━━━━━━━━\u001b[0m\u001b[37m\u001b[0m \u001b[1m0s\u001b[0m 16ms/step - accuracy: 0.9579 - loss: 0.0962 - val_accuracy: 1.0000 - val_loss: 0.0065\n",
      "Epoch 80/100\n",
      "\u001b[1m4/4\u001b[0m \u001b[32m━━━━━━━━━━━━━━━━━━━━\u001b[0m\u001b[37m\u001b[0m \u001b[1m0s\u001b[0m 13ms/step - accuracy: 0.9685 - loss: 0.0985 - val_accuracy: 1.0000 - val_loss: 0.0065\n",
      "Epoch 81/100\n",
      "\u001b[1m4/4\u001b[0m \u001b[32m━━━━━━━━━━━━━━━━━━━━\u001b[0m\u001b[37m\u001b[0m \u001b[1m0s\u001b[0m 13ms/step - accuracy: 0.9942 - loss: 0.0368 - val_accuracy: 1.0000 - val_loss: 0.0062\n",
      "Epoch 82/100\n",
      "\u001b[1m4/4\u001b[0m \u001b[32m━━━━━━━━━━━━━━━━━━━━\u001b[0m\u001b[37m\u001b[0m \u001b[1m0s\u001b[0m 13ms/step - accuracy: 0.9610 - loss: 0.1206 - val_accuracy: 1.0000 - val_loss: 0.0058\n",
      "Epoch 83/100\n",
      "\u001b[1m4/4\u001b[0m \u001b[32m━━━━━━━━━━━━━━━━━━━━\u001b[0m\u001b[37m\u001b[0m \u001b[1m0s\u001b[0m 12ms/step - accuracy: 0.9653 - loss: 0.0743 - val_accuracy: 1.0000 - val_loss: 0.0049\n",
      "Epoch 84/100\n",
      "\u001b[1m4/4\u001b[0m \u001b[32m━━━━━━━━━━━━━━━━━━━━\u001b[0m\u001b[37m\u001b[0m \u001b[1m0s\u001b[0m 11ms/step - accuracy: 0.9695 - loss: 0.1135 - val_accuracy: 1.0000 - val_loss: 0.0047\n",
      "Epoch 85/100\n",
      "\u001b[1m4/4\u001b[0m \u001b[32m━━━━━━━━━━━━━━━━━━━━\u001b[0m\u001b[37m\u001b[0m \u001b[1m0s\u001b[0m 11ms/step - accuracy: 0.9725 - loss: 0.0950 - val_accuracy: 1.0000 - val_loss: 0.0046\n",
      "Epoch 86/100\n",
      "\u001b[1m4/4\u001b[0m \u001b[32m━━━━━━━━━━━━━━━━━━━━\u001b[0m\u001b[37m\u001b[0m \u001b[1m0s\u001b[0m 12ms/step - accuracy: 0.9711 - loss: 0.0785 - val_accuracy: 1.0000 - val_loss: 0.0047\n",
      "Epoch 87/100\n",
      "\u001b[1m4/4\u001b[0m \u001b[32m━━━━━━━━━━━━━━━━━━━━\u001b[0m\u001b[37m\u001b[0m \u001b[1m0s\u001b[0m 13ms/step - accuracy: 0.9643 - loss: 0.1260 - val_accuracy: 1.0000 - val_loss: 0.0047\n",
      "Epoch 88/100\n",
      "\u001b[1m4/4\u001b[0m \u001b[32m━━━━━━━━━━━━━━━━━━━━\u001b[0m\u001b[37m\u001b[0m \u001b[1m0s\u001b[0m 12ms/step - accuracy: 0.9747 - loss: 0.0797 - val_accuracy: 1.0000 - val_loss: 0.0046\n",
      "Epoch 89/100\n",
      "\u001b[1m4/4\u001b[0m \u001b[32m━━━━━━━━━━━━━━━━━━━━\u001b[0m\u001b[37m\u001b[0m \u001b[1m0s\u001b[0m 12ms/step - accuracy: 0.9759 - loss: 0.0603 - val_accuracy: 1.0000 - val_loss: 0.0043\n",
      "Epoch 90/100\n",
      "\u001b[1m4/4\u001b[0m \u001b[32m━━━━━━━━━━━━━━━━━━━━\u001b[0m\u001b[37m\u001b[0m \u001b[1m0s\u001b[0m 13ms/step - accuracy: 0.9595 - loss: 0.1062 - val_accuracy: 1.0000 - val_loss: 0.0042\n",
      "Epoch 91/100\n",
      "\u001b[1m4/4\u001b[0m \u001b[32m━━━━━━━━━━━━━━━━━━━━\u001b[0m\u001b[37m\u001b[0m \u001b[1m0s\u001b[0m 12ms/step - accuracy: 0.9711 - loss: 0.0779 - val_accuracy: 1.0000 - val_loss: 0.0042\n",
      "Epoch 92/100\n",
      "\u001b[1m4/4\u001b[0m \u001b[32m━━━━━━━━━━━━━━━━━━━━\u001b[0m\u001b[37m\u001b[0m \u001b[1m0s\u001b[0m 15ms/step - accuracy: 0.9742 - loss: 0.0916 - val_accuracy: 1.0000 - val_loss: 0.0040\n",
      "Epoch 93/100\n",
      "\u001b[1m4/4\u001b[0m \u001b[32m━━━━━━━━━━━━━━━━━━━━\u001b[0m\u001b[37m\u001b[0m \u001b[1m0s\u001b[0m 12ms/step - accuracy: 0.9958 - loss: 0.0371 - val_accuracy: 1.0000 - val_loss: 0.0038\n",
      "Epoch 94/100\n",
      "\u001b[1m4/4\u001b[0m \u001b[32m━━━━━━━━━━━━━━━━━━━━\u001b[0m\u001b[37m\u001b[0m \u001b[1m0s\u001b[0m 14ms/step - accuracy: 0.9732 - loss: 0.0719 - val_accuracy: 1.0000 - val_loss: 0.0036\n",
      "Epoch 95/100\n",
      "\u001b[1m4/4\u001b[0m \u001b[32m━━━━━━━━━━━━━━━━━━━━\u001b[0m\u001b[37m\u001b[0m \u001b[1m0s\u001b[0m 10ms/step - accuracy: 0.9984 - loss: 0.0277 - val_accuracy: 1.0000 - val_loss: 0.0034\n",
      "Epoch 96/100\n",
      "\u001b[1m4/4\u001b[0m \u001b[32m━━━━━━━━━━━━━━━━━━━━\u001b[0m\u001b[37m\u001b[0m \u001b[1m0s\u001b[0m 13ms/step - accuracy: 0.9696 - loss: 0.0686 - val_accuracy: 1.0000 - val_loss: 0.0031\n",
      "Epoch 97/100\n",
      "\u001b[1m4/4\u001b[0m \u001b[32m━━━━━━━━━━━━━━━━━━━━\u001b[0m\u001b[37m\u001b[0m \u001b[1m0s\u001b[0m 12ms/step - accuracy: 0.9769 - loss: 0.0671 - val_accuracy: 1.0000 - val_loss: 0.0028\n",
      "Epoch 98/100\n",
      "\u001b[1m4/4\u001b[0m \u001b[32m━━━━━━━━━━━━━━━━━━━━\u001b[0m\u001b[37m\u001b[0m \u001b[1m0s\u001b[0m 13ms/step - accuracy: 0.9910 - loss: 0.0438 - val_accuracy: 1.0000 - val_loss: 0.0026\n",
      "Epoch 99/100\n",
      "\u001b[1m4/4\u001b[0m \u001b[32m━━━━━━━━━━━━━━━━━━━━\u001b[0m\u001b[37m\u001b[0m \u001b[1m0s\u001b[0m 12ms/step - accuracy: 0.9800 - loss: 0.0393 - val_accuracy: 1.0000 - val_loss: 0.0024\n",
      "Epoch 100/100\n",
      "\u001b[1m4/4\u001b[0m \u001b[32m━━━━━━━━━━━━━━━━━━━━\u001b[0m\u001b[37m\u001b[0m \u001b[1m0s\u001b[0m 13ms/step - accuracy: 0.9863 - loss: 0.0731 - val_accuracy: 1.0000 - val_loss: 0.0023\n"
     ]
    }
   ],
   "source": [
    "model=Sequential()\n",
    "model.add(Dense(16,activation=\"relu\",kernel_initializer=\"he_uniform\",bias_initializer=\"zeros\",input_dim=x_train.shape[1]))\n",
    "model.add(Dropout(0.3))\n",
    "model.add(Dense(128,activation=\"relu\",kernel_initializer=\"he_uniform\",bias_initializer=\"Ones\"))\n",
    "model.add(Dropout(0.5))\n",
    "model.add(Dense(1,activation=\"sigmoid\",kernel_initializer=\"he_uniform\"))\n",
    "model.compile(optimizer=\"adam\",metrics=[\"accuracy\"],loss=\"binary_crossentropy\")\n",
    "hist=model.fit(x_train,y_train,epochs=100,batch_size=64,validation_data=(x_val,y_val))"
   ]
  },
  {
   "cell_type": "code",
   "execution_count": 34,
   "id": "77408e68",
   "metadata": {},
   "outputs": [
    {
     "data": {
      "text/plain": [
       "0.9800000190734863"
      ]
     },
     "execution_count": 34,
     "metadata": {},
     "output_type": "execute_result"
    }
   ],
   "source": [
    "train_acc=hist.history[\"accuracy\"][-1]\n",
    "train_acc"
   ]
  },
  {
   "cell_type": "code",
   "execution_count": 35,
   "id": "d5a4ff0c",
   "metadata": {
    "scrolled": true
   },
   "outputs": [
    {
     "data": {
      "text/plain": [
       "1.0"
      ]
     },
     "execution_count": 35,
     "metadata": {},
     "output_type": "execute_result"
    }
   ],
   "source": [
    "val_accc=hist.history[\"val_accuracy\"][-1]\n",
    "val_accc"
   ]
  },
  {
   "cell_type": "code",
   "execution_count": 36,
   "id": "09190792",
   "metadata": {
    "scrolled": true
   },
   "outputs": [
    {
     "name": "stdout",
     "output_type": "stream",
     "text": [
      "\u001b[1m6/6\u001b[0m \u001b[32m━━━━━━━━━━━━━━━━━━━━\u001b[0m\u001b[37m\u001b[0m \u001b[1m0s\u001b[0m 14ms/step\n"
     ]
    },
    {
     "data": {
      "text/plain": [
       "1.0"
      ]
     },
     "execution_count": 36,
     "metadata": {},
     "output_type": "execute_result"
    }
   ],
   "source": [
    "y_pred=model.predict(x_test)\n",
    "y_pred=np.where(y_pred>0.5,1,0)\n",
    "score=accuracy_score(y_test,y_pred)\n",
    "score"
   ]
  },
  {
   "cell_type": "code",
   "execution_count": 37,
   "id": "f72ea38d",
   "metadata": {
    "scrolled": true
   },
   "outputs": [
    {
     "data": {
      "text/plain": [
       "<matplotlib.legend.Legend at 0x1c0c6c8f050>"
      ]
     },
     "execution_count": 37,
     "metadata": {},
     "output_type": "execute_result"
    },
    {
     "data": {
      "image/png": "[encoded data removed]",
      "text/plain": [
       "<Figure size 640x480 with 1 Axes>"
      ]
     },
     "metadata": {},
     "output_type": "display_data"
    }
   ],
   "source": [
    "plt.plot(hist.history[\"val_loss\"])\n",
    "plt.plot(hist.history[\"loss\"])\n",
    "plt.title(\"VALIDATION LOSS VS TRAINING LOSS\")\n",
    "plt.legend([\"Train\",\"Validation\"],loc=\"upper right\")"
   ]
  },
  {
   "cell_type": "code",
   "execution_count": 38,
   "id": "741eb392",
   "metadata": {},
   "outputs": [
    {
     "data": {
      "text/plain": [
       "<matplotlib.legend.Legend at 0x1c0c7daa090>"
      ]
     },
     "execution_count": 38,
     "metadata": {},
     "output_type": "execute_result"
    },
    {
     "data": {
      "image/png": "[encoded data removed]",
      "text/plain": [
       "<Figure size 640x480 with 1 Axes>"
      ]
     },
     "metadata": {},
     "output_type": "display_data"
    }
   ],
   "source": [
    "plt.plot(hist.history[\"val_accuracy\"])\n",
    "plt.plot(hist.history[\"accuracy\"])\n",
    "plt.title(\"VALIDATION ACCURACY VS TRAINING ACCURACY\")\n",
    "plt.legend([\"Train\",\"Validation\"],loc=\"upper right\")"
   ]
  },
  {
   "cell_type": "code",
   "execution_count": 39,
   "id": "19be4d84",
   "metadata": {},
   "outputs": [
    {
     "data": {
      "text/plain": [
       "1.0"
      ]
     },
     "execution_count": 39,
     "metadata": {},
     "output_type": "execute_result"
    }
   ],
   "source": [
    "fpr,tpr,threshold=roc_curve(y_test,y_pred)\n",
    "aucc=auc(fpr,tpr)\n",
    "aucc"
   ]
  },
  {
   "cell_type": "code",
   "execution_count": 40,
   "id": "50394cef",
   "metadata": {
    "scrolled": true
   },
   "outputs": [
    {
     "data": {
      "image/png": "[encoded data removed]",
      "text/plain": [
       "<Figure size 800x600 with 1 Axes>"
      ]
     },
     "metadata": {},
     "output_type": "display_data"
    }
   ],
   "source": [
    "plt.figure(figsize=(8, 6))\n",
    "plt.plot(fpr, tpr, color='darkorange', lw=2, label='ROC curve (AUC = {:.2f})'.format(aucc))\n",
    "plt.plot([0, 1], [0, 1], color='navy', lw=2, linestyle='--')\n",
    "plt.xlim([0.0, 1.0])\n",
    "plt.ylim([0.0, 1.05])\n",
    "plt.xlabel('False Positive Rate')\n",
    "plt.ylabel('True Positive Rate')\n",
    "plt.title('Receiver Operating Characteristic (ROC) Curve')\n",
    "plt.legend(loc='lower right')\n",
    "plt.show()\n"
   ]
  }
 ],
 "metadata": {
  "kernelspec": {
   "display_name": "Python 3 (ipykernel)",
   "language": "python",
   "name": "python3"
  },
  "language_info": {
   "codemirror_mode": {
    "name": "ipython",
    "version": 3
   },
   "file_extension": ".py",
   "mimetype": "text/x-python",
   "name": "python",
   "nbconvert_exporter": "python",
   "pygments_lexer": "ipython3",
   "version": "3.11.7"
  }
 },
 "nbformat": 4,
 "nbformat_minor": 5
}
